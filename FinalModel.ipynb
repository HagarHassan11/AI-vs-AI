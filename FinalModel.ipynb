{
  "nbformat": 4,
  "nbformat_minor": 0,
  "metadata": {
    "colab": {
      "provenance": [],
      "machine_shape": "hm",
      "gpuType": "L4"
    },
    "kernelspec": {
      "name": "python3",
      "display_name": "Python 3"
    },
    "language_info": {
      "name": "python"
    },
    "accelerator": "GPU"
  },
  "cells": [
    {
      "cell_type": "code",
      "execution_count": 1,
      "metadata": {
        "id": "9YWtnPuQ44-Y"
      },
      "outputs": [],
      "source": [
        "#Make directory name kaggle\n",
        "! mkdir ~/.kaggle"
      ]
    },
    {
      "cell_type": "code",
      "source": [
        "#Copy the json kaggle to this directory\n",
        "! cp kaggle.json ~/.kaggle/"
      ],
      "metadata": {
        "id": "yEWC1eNa5FkS"
      },
      "execution_count": 2,
      "outputs": []
    },
    {
      "cell_type": "code",
      "source": [
        "#Allocate the required permission for this file.\n",
        "! chmod 600 ~/.kaggle/kaggle.json\n"
      ],
      "metadata": {
        "id": "bxweLYXp5HIu"
      },
      "execution_count": 3,
      "outputs": []
    },
    {
      "cell_type": "code",
      "source": [
        "! kaggle datasets download -d awsaf49/artifact-dataset"
      ],
      "metadata": {
        "colab": {
          "base_uri": "https://localhost:8080/"
        },
        "id": "EvfFDh9f5Ik9",
        "outputId": "c2c47638-b205-4f73-d763-42299c1935ee"
      },
      "execution_count": 4,
      "outputs": [
        {
          "output_type": "stream",
          "name": "stdout",
          "text": [
            "Dataset URL: https://www.kaggle.com/datasets/awsaf49/artifact-dataset\n",
            "License(s): other\n",
            "Downloading artifact-dataset.zip to /content\n",
            "100% 29.4G/29.4G [05:23<00:00, 148MB/s]\n",
            "100% 29.4G/29.4G [05:23<00:00, 97.6MB/s]\n"
          ]
        }
      ]
    },
    {
      "cell_type": "markdown",
      "source": [
        "# **Extract Data**"
      ],
      "metadata": {
        "id": "OXLkT3lCm0t1"
      }
    },
    {
      "cell_type": "code",
      "source": [
        "import zipfile\n",
        "\n",
        "# Path to the dataset zip file\n",
        "dataset_path = \"/content/artifact-dataset.zip\"\n",
        "# Directory to extract the dataset\n",
        "extracted_path = \"/content/ArtiFact\"\n",
        "\n",
        "# Extract the dataset\n",
        "with zipfile.ZipFile(dataset_path, 'r') as zip_ref:\n",
        "    zip_ref.extractall(extracted_path)\n",
        "\n",
        "# Update the dataset path to the extracted directory\n",
        "dataset_path = extracted_path\n"
      ],
      "metadata": {
        "id": "c8lCqoQR5NIe"
      },
      "execution_count": 5,
      "outputs": []
    },
    {
      "cell_type": "code",
      "source": [
        "import os\n",
        "import sys\n",
        "import random\n",
        "import argparse\n",
        "import numpy as np\n",
        "import pandas as pd\n",
        "from tqdm import tqdm\n",
        "from PIL import Image\n",
        "import tensorflow as tf\n",
        "from sklearn import metrics\n",
        "import matplotlib.pyplot as plt\n",
        "from collections import Counter\n",
        "from sklearn.utils import shuffle\n",
        "from tensorflow.keras import layers, Model\n",
        "from tensorflow.keras.optimizers import Adam\n",
        "from sklearn.model_selection import train_test_split\n",
        "from tensorflow.keras.optimizers.schedules import ExponentialDecay\n",
        "from tensorflow.keras.preprocessing.image import ImageDataGenerator"
      ],
      "metadata": {
        "id": "pRmvxMDw5tFJ"
      },
      "execution_count": 6,
      "outputs": []
    },
    {
      "cell_type": "code",
      "source": [
        "# List to store sampled image paths and their corresponding targets\n",
        "sampled_image_paths = []\n",
        "sampled_targets = []\n",
        "\n",
        "# Define the folder and number of images for 'styleGan2'\n",
        "stylegan2_images_to_sample = 440000\n",
        "\n",
        "# Iterate through each folder in the dataset\n",
        "for folder in os.listdir(dataset_path):\n",
        "    folder_path = os.path.join(dataset_path, folder)\n",
        "    if os.path.isdir(folder_path):\n",
        "        metadata_file_path = os.path.join(folder_path, 'metadata.csv')\n",
        "        if os.path.exists(metadata_file_path):\n",
        "            metadata_d = pd.read_csv(metadata_file_path)\n",
        "\n",
        "            if folder_path == '/content/ArtiFact/stylegan2':\n",
        "                # Sample 450000 images from 'styleGan2' folder\n",
        "                sampled_metadata = metadata_d.sample(min(stylegan2_images_to_sample, len(metadata_d)), random_state=42)\n",
        "            else:\n",
        "                # Sample up to num_images_per_folder images from other folders\n",
        "                sampled_metadata = metadata_d\n",
        "\n",
        "            # Get sampled image paths and their corresponding targets\n",
        "            sampled_image_paths.extend([os.path.join(folder_path, img_path) for img_path in sampled_metadata['image_path']])\n",
        "            sampled_targets.extend(sampled_metadata['target'].tolist())\n",
        "\n",
        "# Create a DataFrame with the sampled data\n",
        "sampled_data_df = pd.DataFrame({'image_path': sampled_image_paths, 'target': sampled_targets})\n",
        "\n",
        "# Modify targets: keep 0 as is, change anything else to 1\n",
        "sampled_data_df['target'] = sampled_data_df['target'].apply(lambda x: 0 if x == 0 else 1)\n",
        "\n",
        "# Shuffle the DataFrame\n",
        "sampled_data_df = shuffle(sampled_data_df, random_state=42).reset_index(drop=True)\n",
        "\n",
        "print(\"Total sampled images:\", len(sampled_data_df))\n",
        "print(sampled_data_df.head())\n"
      ],
      "metadata": {
        "colab": {
          "base_uri": "https://localhost:8080/"
        },
        "id": "DpG7VKdzCfCL",
        "outputId": "469d3325-b24b-43a4-e390-1fdf66aefc6b"
      },
      "execution_count": 7,
      "outputs": [
        {
          "output_type": "stream",
          "name": "stdout",
          "text": [
            "Total sampled images: 1936738\n",
            "                                          image_path  target\n",
            "0   /content/ArtiFact/lsun/horse/horse/img122358.jpg       0\n",
            "1   /content/ArtiFact/lsun/horse/horse/img096456.jpg       0\n",
            "2  /content/ArtiFact/taming_transformer/tt-ffhq/f...       1\n",
            "3  /content/ArtiFact/face_synthetics/facesyn/imag...       1\n",
            "4  /content/ArtiFact/lsun/church/church/train/img...       0\n"
          ]
        }
      ]
    },
    {
      "cell_type": "code",
      "source": [
        "np.unique(sampled_data_df['target'],return_counts=True) #0 ---> Real"
      ],
      "metadata": {
        "colab": {
          "base_uri": "https://localhost:8080/"
        },
        "id": "U-IzSSpbDGe0",
        "outputId": "5877902e-7f31-44cf-8283-200450bcf043"
      },
      "execution_count": 8,
      "outputs": [
        {
          "output_type": "execute_result",
          "data": {
            "text/plain": [
              "(array([0, 1]), array([964989, 971749]))"
            ]
          },
          "metadata": {},
          "execution_count": 8
        }
      ]
    },
    {
      "cell_type": "code",
      "source": [
        "# Assuming sampled_data_df has been created as per the previous code\n",
        "counter = Counter(sampled_data_df['target'])\n",
        "freqs = list(counter.values())\n",
        "labels = list(counter.keys())\n",
        "\n",
        "# Map numerical labels to text labels\n",
        "label_mapping = {0: 'Real', 1: 'Fake'}\n",
        "text_labels = [label_mapping[label] for label in labels]\n",
        "\n",
        "# Plot the bar chart\n",
        "plt.figure(figsize=(8, 6))\n",
        "plt.bar(text_labels, freqs, color='orange')\n",
        "plt.xticks(text_labels)  # Set x-ticks to be the text labels\n",
        "plt.xlabel('Labels')\n",
        "plt.ylabel('Frequencies')\n",
        "plt.title('Label Frequencies in Dataset')\n",
        "plt.show()\n"
      ],
      "metadata": {
        "colab": {
          "base_uri": "https://localhost:8080/",
          "height": 564
        },
        "id": "i8H691NTsKuq",
        "outputId": "a5cab1cd-fb1e-4d99-b324-a9550352090f"
      },
      "execution_count": 9,
      "outputs": [
        {
          "output_type": "display_data",
          "data": {
            "text/plain": [
              "<Figure size 800x600 with 1 Axes>"
            ],
            "image/png": "[encoded data removed]"
          },
          "metadata": {}
        }
      ]
    },
    {
      "cell_type": "markdown",
      "source": [
        "# **Split the Data and to get train_generator and test_generator**"
      ],
      "metadata": {
        "id": "IzVxt8rYqaw4"
      }
    },
    {
      "cell_type": "code",
      "source": [
        "sampled_data_df['target'] = sampled_data_df['target'].astype(str)\n",
        "\n",
        "# Split the DataFrame into train and test sets\n",
        "train_df, test_df = train_test_split(sampled_data_df, test_size=0.2, random_state=42, stratify=sampled_data_df['target'])\n"
      ],
      "metadata": {
        "id": "nB0mySbjE1Yg"
      },
      "execution_count": 22,
      "outputs": []
    },
    {
      "cell_type": "code",
      "source": [
        "# Define ImageDataGenerators\n",
        "train_datagen = ImageDataGenerator(rescale=1./255)\n",
        "test_datagen = ImageDataGenerator(rescale=1./255)\n",
        "\n",
        "# Parameters\n",
        "batch_size = 64\n",
        "image_width, image_height = 200, 200\n",
        "\n",
        "# Create train generator\n",
        "train_generator = train_datagen.flow_from_dataframe(\n",
        "    dataframe=train_df,\n",
        "    x_col='image_path',\n",
        "    y_col='target',\n",
        "    target_size=(image_width, image_height),\n",
        "    batch_size=batch_size,\n",
        "    class_mode='sparse',\n",
        "    shuffle=True\n",
        ")\n",
        "\n",
        "# Create test generator\n",
        "test_generator = test_datagen.flow_from_dataframe(\n",
        "    dataframe=test_df,\n",
        "    x_col='image_path',\n",
        "    y_col='target',\n",
        "    target_size=(image_width, image_height),\n",
        "    batch_size=batch_size,\n",
        "    class_mode='sparse',\n",
        "    shuffle=False\n",
        ")\n"
      ],
      "metadata": {
        "colab": {
          "base_uri": "https://localhost:8080/"
        },
        "id": "TLf-KrGp7Zo9",
        "outputId": "2b831858-63cb-4ec3-d7eb-a1d020264bed"
      },
      "execution_count": 76,
      "outputs": [
        {
          "output_type": "stream",
          "name": "stdout",
          "text": [
            "Found 1549390 validated image filenames belonging to 2 classes.\n",
            "Found 387348 validated image filenames belonging to 2 classes.\n"
          ]
        }
      ]
    },
    {
      "cell_type": "code",
      "source": [
        "train_generator.classes = np.array([int(label) for label in train_generator.classes])\n",
        "test_generator.classes = np.array([int(label) for label in test_generator.classes])"
      ],
      "metadata": {
        "id": "pXSGnjVBNtRX"
      },
      "execution_count": 77,
      "outputs": []
    },
    {
      "cell_type": "code",
      "source": [
        "type(train_generator.labels[0])"
      ],
      "metadata": {
        "colab": {
          "base_uri": "https://localhost:8080/"
        },
        "id": "JxGRuP4cOY8s",
        "outputId": "ce8cc70a-66ff-4cf5-b86f-d8a4cd197395"
      },
      "execution_count": 16,
      "outputs": [
        {
          "output_type": "execute_result",
          "data": {
            "text/plain": [
              "numpy.int64"
            ]
          },
          "metadata": {},
          "execution_count": 16
        }
      ]
    },
    {
      "cell_type": "code",
      "source": [
        "# # Assuming 'target' is the column name in your DataFrame containing the class labels\n",
        "# classes = sampled_data_df['target'].unique()\n",
        "\n",
        "# # Number of classes\n",
        "# num_classes = len(classes)\n",
        "\n",
        "# # Print the number of classes and their names\n",
        "# print(\"Number of classes:\", num_classes)\n",
        "# print(\"Class labels:\", classes)"
      ],
      "metadata": {
        "id": "r2YW7awgDbGE"
      },
      "execution_count": null,
      "outputs": []
    },
    {
      "cell_type": "markdown",
      "source": [
        "# **Capsule Model**"
      ],
      "metadata": {
        "id": "VCDczSyEqs62"
      }
    },
    {
      "cell_type": "code",
      "source": [
        "import sys\n",
        "sys.path.insert(1,'/content/CustomLayers.py')\n",
        "import CustomLayers\n",
        "from CustomLayers import StatsPooling,View,PrimaryCapsule,VggExtractor,OutputCapsule,RoutingLayer"
      ],
      "metadata": {
        "id": "B9nSadawFrss"
      },
      "execution_count": 18,
      "outputs": []
    },
    {
      "cell_type": "code",
      "source": [
        "NO_CAPS = 10\n",
        "OutCapsules = 2\n",
        "ParimaryCapsOutLen = 8\n",
        "OutputCapsLen = 4\n",
        "iters = 3"
      ],
      "metadata": {
        "id": "jnRCrLLyDmnY"
      },
      "execution_count": null,
      "outputs": []
    },
    {
      "cell_type": "code",
      "source": [
        "# Define the input layer\n",
        "\n",
        "inputs = tf.keras.Input(shape=(200, 200, 3))\n",
        "\n",
        "# Instantiate VggExtractor and obtain its output\n",
        "vgg_output = VggExtractor()(inputs)\n",
        "\n",
        "PrimaryCapsule = PrimaryCapsule()(vgg_output)\n",
        "\n",
        "\n",
        "RoutingLayer=RoutingLayer(NO_CAPS, OutCapsules, ParimaryCapsOutLen, OutputCapsLen, iters)(PrimaryCapsule, random=True, dropout=0.3)\n",
        "outputs= OutputCapsule()(RoutingLayer)\n",
        "\n",
        "initial_learning_rate = 1e-4\n",
        "lr_schedule = ExponentialDecay(\n",
        "    initial_learning_rate,\n",
        "    decay_steps=100000,\n",
        "    decay_rate=0.96,\n",
        "    staircase=True)\n",
        "\n",
        "optimizer = Adam(learning_rate=lr_schedule,clipnorm=1.0)\n",
        "\n",
        "model = tf.keras.Model(inputs=inputs, outputs=outputs)\n",
        "\n",
        "#optimizer = tf.keras.optimizers.Adam(learning_rate=1e-4, clipnorm=1.0)\n",
        "\n",
        "# Compile the model\n",
        "model.compile(optimizer = optimizer, loss='sparse_categorical_crossentropy', metrics=['accuracy'])\n",
        "model.summary()"
      ],
      "metadata": {
        "colab": {
          "base_uri": "https://localhost:8080/"
        },
        "id": "fdgd8L1nFpWu",
        "outputId": "5181dd7d-b4b4-41a6-bfbd-3c3bcbc362d3"
      },
      "execution_count": null,
      "outputs": [
        {
          "output_type": "stream",
          "name": "stdout",
          "text": [
            "Downloading data from https://storage.googleapis.com/tensorflow/keras-applications/vgg19/vgg19_weights_tf_dim_ordering_tf_kernels_notop.h5\n",
            "80134624/80134624 [==============================] - 0s 0us/step\n",
            "Model: \"model_1\"\n",
            "_________________________________________________________________\n",
            " Layer (type)                Output Shape              Param #   \n",
            "=================================================================\n",
            " input_1 (InputLayer)        [(None, 200, 200, 3)]     0         \n",
            "                                                                 \n",
            " vgg_extractor (VggExtracto  (None, 25, 25, 256)       2325568   \n",
            " r)                                                              \n",
            "                                                                 \n",
            " primary_capsule (PrimaryCa  (None, 8, 10)             1572210   \n",
            " psule)                                                          \n",
            "                                                                 \n",
            " routing_layer (RoutingLaye  (None, 2, 4)              640       \n",
            " r)                                                              \n",
            "                                                                 \n",
            " output_capsule (OutputCaps  (None, 2)                 0         \n",
            " ule)                                                            \n",
            "                                                                 \n",
            "=================================================================\n",
            "Total params: 3898418 (14.87 MB)\n",
            "Trainable params: 1571070 (5.99 MB)\n",
            "Non-trainable params: 2327348 (8.88 MB)\n",
            "_________________________________________________________________\n"
          ]
        }
      ]
    },
    {
      "cell_type": "markdown",
      "source": [
        "# **After 2 Epochs with batch size 32**"
      ],
      "metadata": {
        "id": "JiJ1UgG7q_pe"
      }
    },
    {
      "cell_type": "code",
      "source": [
        "history = model.fit(\n",
        "    train_generator,\n",
        "    steps_per_epoch=train_generator.samples // batch_size,\n",
        "    validation_data=test_generator,\n",
        "    validation_steps=test_generator.samples // batch_size,\n",
        "    epochs=2  # Adjust the number of epochs as needed\n",
        ")"
      ],
      "metadata": {
        "colab": {
          "base_uri": "https://localhost:8080/"
        },
        "id": "Dhn-3g3dHjij",
        "outputId": "fd7031e2-1119-4288-a55b-9ba869ec86cd"
      },
      "execution_count": null,
      "outputs": [
        {
          "output_type": "stream",
          "name": "stdout",
          "text": [
            "Epoch 1/2\n",
            "62418/62418 [==============================] - 10677s 170ms/step - loss: 0.5651 - accuracy: 0.7316 - val_loss: 0.5439 - val_accuracy: 0.7576\n",
            "Epoch 2/2\n",
            "62418/62418 [==============================] - 10641s 170ms/step - loss: 0.5329 - accuracy: 0.7701 - val_loss: 0.5462 - val_accuracy: 0.7555\n"
          ]
        }
      ]
    },
    {
      "cell_type": "code",
      "source": [
        "# Save the model architecture to JSON\n",
        "model_json = model.to_json()\n",
        "with open(\"model.json\", \"w\") as json_file:\n",
        "    json_file.write(model_json)\n",
        "\n",
        "# Save the model weights\n",
        "model.save_weights(\"model.weights.h5\")"
      ],
      "metadata": {
        "id": "ESNyLcXWJgqo"
      },
      "execution_count": null,
      "outputs": []
    },
    {
      "cell_type": "markdown",
      "source": [
        "# **After 4 Epochs with batch size 32**"
      ],
      "metadata": {
        "id": "k_VEfiEhrM1J"
      }
    },
    {
      "cell_type": "code",
      "source": [
        "history = model.fit(\n",
        "    train_generator,\n",
        "    steps_per_epoch=train_generator.samples // batch_size,\n",
        "    validation_data=test_generator,\n",
        "    validation_steps=test_generator.samples // batch_size,\n",
        "    epochs=2\n",
        ")"
      ],
      "metadata": {
        "colab": {
          "base_uri": "https://localhost:8080/"
        },
        "id": "zi1o7-nMtDqh",
        "outputId": "912be8ef-d44a-49ec-d1d1-e82ecf18ae80"
      },
      "execution_count": null,
      "outputs": [
        {
          "output_type": "stream",
          "name": "stdout",
          "text": [
            "Epoch 1/2\n",
            "62418/62418 [==============================] - 10614s 170ms/step - loss: 0.5167 - accuracy: 0.7893 - val_loss: 0.5304 - val_accuracy: 0.7742\n",
            "Epoch 2/2\n",
            "62418/62418 [==============================] - 10637s 170ms/step - loss: 0.5054 - accuracy: 0.8023 - val_loss: 0.5163 - val_accuracy: 0.7890\n"
          ]
        }
      ]
    },
    {
      "cell_type": "code",
      "source": [
        "model_json = model.to_json()\n",
        "with open(\"model2.json\", \"w\") as json_file:\n",
        "    json_file.write(model_json)\n",
        "\n",
        "# Save the model weights\n",
        "model.save_weights(\"model.weights2.h5\")"
      ],
      "metadata": {
        "id": "o__SmLwgv0-A"
      },
      "execution_count": null,
      "outputs": []
    },
    {
      "cell_type": "markdown",
      "source": [
        "# **After 5 Epochs with batch size 32**"
      ],
      "metadata": {
        "id": "O0W_rdd7rS6D"
      }
    },
    {
      "cell_type": "code",
      "source": [
        "history = model.fit(\n",
        "    train_generator,\n",
        "    steps_per_epoch=train_generator.samples // batch_size,\n",
        "    validation_data=test_generator,\n",
        "    validation_steps=test_generator.samples // batch_size,\n",
        "    epochs=1\n",
        ")"
      ],
      "metadata": {
        "colab": {
          "base_uri": "https://localhost:8080/"
        },
        "id": "UdfxyLr7_g5W",
        "outputId": "529c773f-1c16-4d28-bf19-23d6897e5f01"
      },
      "execution_count": null,
      "outputs": [
        {
          "output_type": "stream",
          "name": "stdout",
          "text": [
            "62418/62418 [==============================] - 10637s 170ms/step - loss: 0.4972 - accuracy: 0.8119 - val_loss: 0.4979 - val_accuracy: 0.8095\n"
          ]
        }
      ]
    },
    {
      "cell_type": "code",
      "source": [
        "model_json = model.to_json()\n",
        "with open(\"model5.json\", \"w\") as json_file:\n",
        "    json_file.write(model_json)\n",
        "\n",
        "# Save the model weights\n",
        "model.save_weights(\"model.weights5.h5\")"
      ],
      "metadata": {
        "id": "2D7REy-FAqgf"
      },
      "execution_count": null,
      "outputs": []
    },
    {
      "cell_type": "markdown",
      "source": [
        "# **Confusion Matrix After 5 Epochs**"
      ],
      "metadata": {
        "id": "lO5muzIupcRf"
      }
    },
    {
      "cell_type": "code",
      "source": [
        "import matplotlib.pyplot as plt\n",
        "import tensorflow as tf\n",
        "from sklearn.metrics import confusion_matrix\n",
        "import seaborn as sns\n",
        "\n",
        "# Assuming you have a test generator named test_generator\n",
        "\n",
        "# Generate predictions\n",
        "y_pred = model.predict(test_generator)\n",
        "y_pred = tf.argmax(y_pred, axis=1).numpy()\n",
        "\n",
        "# Generate true labels from the test generator\n",
        "y_true = test_generator.classes\n",
        "\n",
        "# Generate the confusion matrix\n",
        "cm = confusion_matrix(y_true=y_true, y_pred=y_pred)\n",
        "\n",
        "# Plot the confusion matrix using seaborn\n",
        "plt.figure(figsize=(8, 8))\n",
        "sns.heatmap(cm, annot=True, cmap='Blues', fmt='d', cbar=True, square=True)\n",
        "plt.title(\"Confusion Matrix\")\n",
        "plt.xlabel(\"Predicted Labels\")\n",
        "plt.ylabel(\"True Labels\")\n",
        "plt.show()\n"
      ],
      "metadata": {
        "colab": {
          "base_uri": "https://localhost:8080/",
          "height": 670
        },
        "id": "FLyL2T-mqlR8",
        "outputId": "8bf275c2-5ba1-40e6-946c-b3de345f09ed"
      },
      "execution_count": null,
      "outputs": [
        {
          "output_type": "stream",
          "name": "stdout",
          "text": [
            "15605/15605 [==============================] - 1685s 108ms/step\n"
          ]
        },
        {
          "output_type": "display_data",
          "data": {
            "text/plain": [
              "<Figure size 800x800 with 2 Axes>"
            ],
            "image/png": "[encoded data removed]"
          },
          "metadata": {}
        }
      ]
    },
    {
      "cell_type": "markdown",
      "source": [
        "# **Load the Model with 5 Epochs**"
      ],
      "metadata": {
        "id": "wGGRFjbPnp5k"
      }
    },
    {
      "cell_type": "code",
      "source": [
        "from tensorflow.keras.models import load_model\n",
        "from tensorflow.keras.layers import ReLU\n",
        "from tensorflow.keras.losses import SparseCategoricalCrossentropy"
      ],
      "metadata": {
        "id": "Iux6RL8wnjIw"
      },
      "execution_count": null,
      "outputs": []
    },
    {
      "cell_type": "code",
      "source": [
        "def custom_sparse_categorical_crossentropy(**kwargs):\n",
        "    config = kwargs.get('config', {})\n",
        "    from_logits = config.get('from_logits', False)\n",
        "    reduction = config.get('reduction', 'auto')\n",
        "    name = config.get('name', 'sparse_categorical_crossentropy')\n",
        "    return SparseCategoricalCrossentropy(from_logits=from_logits, reduction=reduction, name=name)\n"
      ],
      "metadata": {
        "id": "EisXaGmdnwEZ"
      },
      "execution_count": null,
      "outputs": []
    },
    {
      "cell_type": "code",
      "source": [
        "custom_objects = {\n",
        "    'ReLU': ReLU,\n",
        "    'SparseCategoricalCrossentropy': custom_sparse_categorical_crossentropy,\n",
        "    'VggExtractor':VggExtractor,\n",
        "    'StatsPooling':StatsPooling,\n",
        "     'View':View,\n",
        "    'PrimaryCapsule':PrimaryCapsule,\n",
        "    'OutputCapsule':OutputCapsule,\n",
        "    'RoutingLayer':RoutingLayer\n",
        "}\n"
      ],
      "metadata": {
        "id": "tkV-jiKanzB2"
      },
      "execution_count": null,
      "outputs": []
    },
    {
      "cell_type": "code",
      "source": [
        "from tensorflow.keras.models import model_from_json\n",
        "\n",
        "# Load the model architecture from JSON\n",
        "with open(\"model5.json\", \"r\") as json_file:\n",
        "    loaded_model_json = json_file.read()\n",
        "loaded_model = model_from_json(loaded_model_json,custom_objects=custom_objects)\n",
        "\n",
        "# Load the model weights\n",
        "loaded_model.load_weights(\"model.weights5.h5\")\n",
        "\n",
        "\n"
      ],
      "metadata": {
        "id": "8xmLwgskoK6z",
        "colab": {
          "base_uri": "https://localhost:8080/"
        },
        "outputId": "fd6f62e7-6d9f-48cf-ad3a-f80b72833a80"
      },
      "execution_count": null,
      "outputs": [
        {
          "output_type": "stream",
          "name": "stdout",
          "text": [
            "Downloading data from https://storage.googleapis.com/tensorflow/keras-applications/vgg19/vgg19_weights_tf_dim_ordering_tf_kernels_notop.h5\n",
            "80134624/80134624 [==============================] - 5s 0us/step\n"
          ]
        }
      ]
    },
    {
      "cell_type": "code",
      "source": [
        "loaded_model.summary()"
      ],
      "metadata": {
        "colab": {
          "base_uri": "https://localhost:8080/"
        },
        "id": "aNqMXBSauB3Z",
        "outputId": "47e5afaf-86b4-49d5-883c-875cee2b4369"
      },
      "execution_count": null,
      "outputs": [
        {
          "output_type": "stream",
          "name": "stdout",
          "text": [
            "Model: \"model_1\"\n",
            "_________________________________________________________________\n",
            " Layer (type)                Output Shape              Param #   \n",
            "=================================================================\n",
            " input_1 (InputLayer)        [(None, 200, 200, 3)]     0         \n",
            "                                                                 \n",
            " vgg_extractor (VggExtracto  (None, 25, 25, 256)       2325568   \n",
            " r)                                                              \n",
            "                                                                 \n",
            " primary_capsule (PrimaryCa  (None, 8, 10)             1572210   \n",
            " psule)                                                          \n",
            "                                                                 \n",
            " routing_layer (RoutingLaye  (None, 2, 4)              640       \n",
            " r)                                                              \n",
            "                                                                 \n",
            " output_capsule (OutputCaps  (None, 2)                 0         \n",
            " ule)                                                            \n",
            "                                                                 \n",
            "=================================================================\n",
            "Total params: 3898418 (14.87 MB)\n",
            "Trainable params: 1571070 (5.99 MB)\n",
            "Non-trainable params: 2327348 (8.88 MB)\n",
            "_________________________________________________________________\n"
          ]
        }
      ]
    },
    {
      "cell_type": "markdown",
      "source": [
        "# **After 7 Epochs and First Recompile with batch size 128 and balanced data**"
      ],
      "metadata": {
        "id": "yDir47zXrZX2"
      }
    },
    {
      "cell_type": "code",
      "source": [
        "initial_learning_rate = 1e-4\n",
        "lr_schedule = ExponentialDecay(\n",
        "    initial_learning_rate,\n",
        "    decay_steps=100000,\n",
        "    decay_rate=0.96,p\n",
        "    staircase=True)\n",
        "\n",
        "optimizer = Adam(learning_rate=lr_schedule,clipnorm=1.0)\n",
        "\n",
        "#optimizer = tf.keras.optimizers.Adam(learning_rate=1e-4, clipnorm=1.0)\n",
        "\n",
        "# Compile the model\n",
        "loaded_model.compile(optimizer = optimizer, loss='sparse_categorical_crossentropy', metrics=['accuracy'])"
      ],
      "metadata": {
        "id": "EDQoVU27wycf"
      },
      "execution_count": null,
      "outputs": []
    },
    {
      "cell_type": "code",
      "source": [
        "history = loaded_model.fit(\n",
        "    train_generator,\n",
        "    steps_per_epoch=train_generator.samples // batch_size,\n",
        "    validation_data=test_generator,\n",
        "    validation_steps=test_generator.samples // batch_size,\n",
        "    epochs=2,\n",
        "    shuffle=True\n",
        ")"
      ],
      "metadata": {
        "id": "yj4aoOYldH2_",
        "colab": {
          "base_uri": "https://localhost:8080/"
        },
        "outputId": "b59cd865-be98-4a0f-bd30-8284fc9e075e"
      },
      "execution_count": null,
      "outputs": [
        {
          "output_type": "stream",
          "name": "stdout",
          "text": [
            "Epoch 1/2\n",
            "12104/12104 [==============================] - 4559s 373ms/step - loss: 0.4937 - accuracy: 0.8168 - val_loss: 0.4959 - val_accuracy: 0.8135\n",
            "Epoch 2/2\n",
            "12104/12104 [==============================] - 4472s 369ms/step - loss: 0.4873 - accuracy: 0.8246 - val_loss: 0.4952 - val_accuracy: 0.8144\n"
          ]
        }
      ]
    },
    {
      "cell_type": "code",
      "source": [
        "import matplotlib.pyplot as plt\n",
        "import tensorflow as tf\n",
        "from sklearn.metrics import confusion_matrix\n",
        "import seaborn as sns\n",
        "\n",
        "# Assuming you have a test generator named test_generator\n",
        "\n",
        "# Generate predictions\n",
        "y_pred = loaded_model.predict(test_generator)\n",
        "y_pred = tf.argmax(y_pred, axis=1).numpy()\n",
        "\n",
        "# Generate true labels from the test generator\n",
        "y_true = test_generator.classes\n",
        "\n",
        "# Generate the confusion matrix\n",
        "cm = confusion_matrix(y_true=y_true, y_pred=y_pred)\n",
        "\n",
        "# Plot the confusion matrix using seaborn\n",
        "plt.figure(figsize=(8, 8))\n",
        "sns.heatmap(cm, annot=True, cmap='Blues', fmt='d', cbar=True, square=True)\n",
        "plt.title(\"Confusion Matrix\")\n",
        "plt.xlabel(\"Predicted Labels\")\n",
        "plt.ylabel(\"True Labels\")\n",
        "plt.show()"
      ],
      "metadata": {
        "id": "KSVbZAP-xblS",
        "colab": {
          "base_uri": "https://localhost:8080/",
          "height": 670
        },
        "outputId": "31b0417f-3a89-4128-b348-702392aaae0b"
      },
      "execution_count": null,
      "outputs": [
        {
          "output_type": "stream",
          "name": "stdout",
          "text": [
            "3027/3027 [==============================] - 899s 296ms/step\n"
          ]
        },
        {
          "output_type": "display_data",
          "data": {
            "text/plain": [
              "<Figure size 800x800 with 2 Axes>"
            ],
            "image/png": "[encoded data removed]"
          },
          "metadata": {}
        }
      ]
    },
    {
      "cell_type": "code",
      "source": [
        "loaded_model.save(\"recmpile_model7.keras\")"
      ],
      "metadata": {
        "id": "dKksJnXSvhST"
      },
      "execution_count": null,
      "outputs": []
    },
    {
      "cell_type": "markdown",
      "source": [
        "# **After 9 Epochs**"
      ],
      "metadata": {
        "id": "vBV6naRFxC2G"
      }
    },
    {
      "cell_type": "code",
      "source": [
        "loaded_model7 = tf.keras.models.load_model('/content/recmpile_model7.keras', custom_objects={'CustomLayer': custom_objects})"
      ],
      "metadata": {
        "id": "LbDvtj1zxJ7g"
      },
      "execution_count": null,
      "outputs": []
    },
    {
      "cell_type": "code",
      "source": [
        "history7 = loaded_model7.fit(\n",
        "    train_generator,\n",
        "    steps_per_epoch=train_generator.samples // batch_size,\n",
        "    validation_data=test_generator,\n",
        "    validation_steps=test_generator.samples // batch_size,\n",
        "    epochs=2,\n",
        "    shuffle=True\n",
        ")"
      ],
      "metadata": {
        "colab": {
          "base_uri": "https://localhost:8080/"
        },
        "id": "tdbHsb8dxwQz",
        "outputId": "830f9953-cfe6-4612-9f97-aed30c603f1f"
      },
      "execution_count": null,
      "outputs": [
        {
          "output_type": "stream",
          "name": "stdout",
          "text": [
            "Epoch 1/2\n",
            "12104/12104 [==============================] - 4495s 369ms/step - loss: 0.4829 - accuracy: 0.8299 - val_loss: 0.4945 - val_accuracy: 0.8151\n",
            "Epoch 2/2\n",
            "12104/12104 [==============================] - 4465s 369ms/step - loss: 0.4796 - accuracy: 0.8336 - val_loss: 0.4918 - val_accuracy: 0.8181\n"
          ]
        }
      ]
    },
    {
      "cell_type": "markdown",
      "source": [
        "# **After 11 Epochs**"
      ],
      "metadata": {
        "id": "OaBOKuHwpe3M"
      }
    },
    {
      "cell_type": "code",
      "source": [
        "history8 = loaded_model7.fit(\n",
        "    train_generator,\n",
        "    steps_per_epoch=train_generator.samples // batch_size,\n",
        "    validation_data=test_generator,\n",
        "    validation_steps=test_generator.samples // batch_size,\n",
        "    epochs=2,\n",
        "    shuffle=True)"
      ],
      "metadata": {
        "colab": {
          "base_uri": "https://localhost:8080/"
        },
        "id": "bIeuteo6XAyr",
        "outputId": "aa643b83-74e9-4429-a6ea-4963faf785e8"
      },
      "execution_count": null,
      "outputs": [
        {
          "output_type": "stream",
          "name": "stdout",
          "text": [
            "Epoch 1/2\n",
            "12104/12104 [==============================] - 4462s 369ms/step - loss: 0.4768 - accuracy: 0.8367 - val_loss: 0.4951 - val_accuracy: 0.8146\n",
            "Epoch 2/2\n",
            "12104/12104 [==============================] - 4443s 367ms/step - loss: 0.4741 - accuracy: 0.8398 - val_loss: 0.4847 - val_accuracy: 0.8271\n"
          ]
        }
      ]
    },
    {
      "cell_type": "code",
      "source": [
        "loaded_model7.save(\"recmpile_model(4epochs(3:6)).keras\")"
      ],
      "metadata": {
        "id": "ZbL10bqb3Kvx"
      },
      "execution_count": null,
      "outputs": []
    },
    {
      "cell_type": "code",
      "source": [
        "loaded_model7.save(\"recmpile_model(4epochs(3:6)).h5\")"
      ],
      "metadata": {
        "colab": {
          "base_uri": "https://localhost:8080/"
        },
        "id": "XJo2AqzZ7yIk",
        "outputId": "00424316-67c2-4110-c901-b3c723feab13"
      },
      "execution_count": null,
      "outputs": [
        {
          "output_type": "stream",
          "name": "stderr",
          "text": [
            "/usr/local/lib/python3.10/dist-packages/keras/src/engine/training.py:3103: UserWarning: You are saving your model as an HDF5 file via `model.save()`. This file format is considered legacy. We recommend using instead the native Keras format, e.g. `model.save('my_model.keras')`.\n",
            "  saving_api.save_model(\n"
          ]
        }
      ]
    },
    {
      "cell_type": "markdown",
      "source": [
        "# **After 12 epochs And Second Recompile**"
      ],
      "metadata": {
        "id": "TQL4rygK3la2"
      }
    },
    {
      "cell_type": "code",
      "source": [
        "loaded_model8 = tf.keras.models.load_model('/content/recmpile_model(4epochs(3:6)).keras', custom_objects={'CustomLayer': custom_objects})"
      ],
      "metadata": {
        "id": "KHHov1xhPyhh"
      },
      "execution_count": null,
      "outputs": []
    },
    {
      "cell_type": "code",
      "source": [
        "loaded_model9 = tf.keras.models.load_model('/content/recmpile_model(4epochs(3:6)).h5', custom_objects={'CustomLayer': custom_objects})"
      ],
      "metadata": {
        "id": "4WcdeMe79FS1"
      },
      "execution_count": null,
      "outputs": []
    },
    {
      "cell_type": "code",
      "source": [
        "initial_learning_rate = 1e-5\n",
        "lr_schedule = ExponentialDecay(\n",
        "    initial_learning_rate,\n",
        "    decay_steps=50000,\n",
        "    decay_rate=0.90,\n",
        "    staircase=True)\n",
        "\n",
        "optimizer = Adam(learning_rate=lr_schedule,clipnorm=0.5)\n",
        "\n",
        "# Compile the model\n",
        "loaded_model9.compile(optimizer = optimizer, loss='sparse_categorical_crossentropy', metrics=['accuracy'])"
      ],
      "metadata": {
        "id": "XZ5ZIYE1W00_"
      },
      "execution_count": null,
      "outputs": []
    },
    {
      "cell_type": "code",
      "source": [
        "history9 = loaded_model9.fit(\n",
        "    train_generator,\n",
        "    steps_per_epoch=train_generator.samples // batch_size,\n",
        "    validation_data=test_generator,\n",
        "    validation_steps=test_generator.samples // batch_size,\n",
        "    epochs=1,\n",
        "    shuffle=True)"
      ],
      "metadata": {
        "colab": {
          "base_uri": "https://localhost:8080/"
        },
        "id": "aNOcMcd8Qe9n",
        "outputId": "a5d3d5b8-9fcd-4879-a66c-6097b51c0ce5"
      },
      "execution_count": null,
      "outputs": [
        {
          "output_type": "stream",
          "name": "stdout",
          "text": [
            "12104/12104 [==============================] - 4494s 369ms/step - loss: 0.4591 - accuracy: 0.8580 - val_loss: 0.4751 - val_accuracy: 0.8374\n"
          ]
        }
      ]
    },
    {
      "cell_type": "code",
      "source": [
        "loaded_model9.save(\"modelE13A86SecRecom.h5\")"
      ],
      "metadata": {
        "colab": {
          "base_uri": "https://localhost:8080/"
        },
        "id": "MtqY3AJxpntv",
        "outputId": "f2e6c196-aa2b-4f9b-bd92-b8805146c438"
      },
      "execution_count": null,
      "outputs": [
        {
          "output_type": "stream",
          "name": "stderr",
          "text": [
            "/usr/local/lib/python3.10/dist-packages/keras/src/engine/training.py:3103: UserWarning: You are saving your model as an HDF5 file via `model.save()`. This file format is considered legacy. We recommend using instead the native Keras format, e.g. `model.save('my_model.keras')`.\n",
            "  saving_api.save_model(\n"
          ]
        }
      ]
    },
    {
      "cell_type": "code",
      "source": [
        "loaded_model9.save(\"modelE13A86R2.keras\")"
      ],
      "metadata": {
        "id": "uHR6saF2qJoG"
      },
      "execution_count": null,
      "outputs": []
    },
    {
      "cell_type": "markdown",
      "source": [
        "# **After 13 epochs And Second Recompile**"
      ],
      "metadata": {
        "id": "-TgHss_ytlpT"
      }
    },
    {
      "cell_type": "code",
      "source": [
        "history10 = loaded_model9.fit(\n",
        "    train_generator,\n",
        "    steps_per_epoch=train_generator.samples // batch_size,\n",
        "    validation_data=test_generator,\n",
        "    validation_steps=test_generator.samples // batch_size,\n",
        "    epochs=1,\n",
        "    shuffle=True)"
      ],
      "metadata": {
        "colab": {
          "base_uri": "https://localhost:8080/"
        },
        "id": "e8IM1puxqytL",
        "outputId": "c76ce8b9-11fe-41ee-ee0c-9aa8122a0874"
      },
      "execution_count": null,
      "outputs": [
        {
          "output_type": "stream",
          "name": "stdout",
          "text": [
            "12104/12104 [==============================] - 4463s 369ms/step - loss: 0.4562 - accuracy: 0.8614 - val_loss: 0.4745 - val_accuracy: 0.8381\n"
          ]
        }
      ]
    },
    {
      "cell_type": "code",
      "source": [
        "loaded_model9.save(\"modelE14A86,14R2.keras\")"
      ],
      "metadata": {
        "id": "5_xNVvxRqygO"
      },
      "execution_count": null,
      "outputs": []
    },
    {
      "cell_type": "code",
      "source": [
        "loaded_model9.save(\"modelE14A86,14SecRecom.h5\")"
      ],
      "metadata": {
        "colab": {
          "base_uri": "https://localhost:8080/"
        },
        "id": "1XzFgWJf8KTN",
        "outputId": "8aba6242-4d77-49dc-f276-df3c9ec20c28"
      },
      "execution_count": null,
      "outputs": [
        {
          "output_type": "stream",
          "name": "stderr",
          "text": [
            "/usr/local/lib/python3.10/dist-packages/keras/src/engine/training.py:3103: UserWarning: You are saving your model as an HDF5 file via `model.save()`. This file format is considered legacy. We recommend using instead the native Keras format, e.g. `model.save('my_model.keras')`.\n",
            "  saving_api.save_model(\n"
          ]
        }
      ]
    },
    {
      "cell_type": "markdown",
      "source": [
        "# **After 14 Epochs, Third Recompile**"
      ],
      "metadata": {
        "id": "h9wnyPdbpmry"
      }
    },
    {
      "cell_type": "code",
      "source": [
        "from tensorflow.keras.models import load_model\n",
        "from tensorflow.keras.layers import ReLU\n",
        "from tensorflow.keras.losses import SparseCategoricalCrossentropy"
      ],
      "metadata": {
        "id": "FpUqpr1fYLIU"
      },
      "execution_count": 19,
      "outputs": []
    },
    {
      "cell_type": "code",
      "source": [
        "def custom_sparse_categorical_crossentropy(**kwargs):\n",
        "    config = kwargs.get('config', {})\n",
        "    from_logits = config.get('from_logits', False)\n",
        "    reduction = config.get('reduction', 'auto')\n",
        "    name = config.get('name', 'sparse_categorical_crossentropy')\n",
        "    return SparseCategoricalCrossentropy(from_logits=from_logits, reduction=reduction, name=name)\n"
      ],
      "metadata": {
        "id": "p817lUFjYRfW"
      },
      "execution_count": 20,
      "outputs": []
    },
    {
      "cell_type": "code",
      "source": [
        "custom_objects = {\n",
        "    'ReLU': ReLU,\n",
        "    'SparseCategoricalCrossentropy': custom_sparse_categorical_crossentropy,\n",
        "    'VggExtractor':VggExtractor,\n",
        "    'StatsPooling':StatsPooling,\n",
        "     'View':View,\n",
        "    'PrimaryCapsule':PrimaryCapsule,\n",
        "    'OutputCapsule':OutputCapsule,\n",
        "    'RoutingLayer':RoutingLayer\n",
        "}\n"
      ],
      "metadata": {
        "id": "yCNS4sWJYS7G"
      },
      "execution_count": 21,
      "outputs": []
    },
    {
      "cell_type": "code",
      "source": [
        "loaded_model10 = tf.keras.models.load_model('modelE13A86,14R2.h5', custom_objects={'CustomLayer': custom_objects})"
      ],
      "metadata": {
        "id": "_k-GHyGQP08F"
      },
      "execution_count": 41,
      "outputs": []
    },
    {
      "cell_type": "code",
      "source": [
        "initial_learning_rate = 1e-6\n",
        "lr_schedule = ExponentialDecay(\n",
        "    initial_learning_rate,\n",
        "    decay_steps=2000,\n",
        "    decay_rate=0.90,\n",
        "    staircase=True)\n",
        "\n",
        "optimizer = Adam(learning_rate=lr_schedule,clipnorm=1.0)\n",
        "\n",
        "# Compile the model\n",
        "loaded_model10.compile(optimizer = optimizer, loss='sparse_categorical_crossentropy', metrics=['accuracy'])"
      ],
      "metadata": {
        "id": "G-lTiLPMfcsB"
      },
      "execution_count": 42,
      "outputs": []
    },
    {
      "cell_type": "code",
      "source": [
        "history10 = loaded_model10.fit(\n",
        "    train_generator,\n",
        "    steps_per_epoch=train_generator.samples // batch_size,\n",
        "    validation_data=test_generator,\n",
        "    validation_steps=test_generator.samples // batch_size,\n",
        "    epochs=1,\n",
        "    shuffle=True)"
      ],
      "metadata": {
        "colab": {
          "base_uri": "https://localhost:8080/"
        },
        "id": "McZsDIQSgv4V",
        "outputId": "5ddf288f-8de4-497d-d491-182b73602871"
      },
      "execution_count": 43,
      "outputs": [
        {
          "output_type": "stream",
          "name": "stdout",
          "text": [
            "12104/12104 [==============================] - 4538s 372ms/step - loss: 0.4584 - accuracy: 0.8587 - val_loss: 0.4554 - val_accuracy: 0.8624\n"
          ]
        }
      ]
    },
    {
      "cell_type": "code",
      "source": [
        "import matplotlib.pyplot as plt\n",
        "import tensorflow as tf\n",
        "from sklearn.metrics import confusion_matrix\n",
        "import seaborn as sns\n",
        "\n",
        "# Assuming you have a test generator named test_generator\n",
        "\n",
        "# Generate predictions\n",
        "y_pred = loaded_model10.predict(test_generator)\n",
        "y_pred = tf.argmax(y_pred, axis=1).numpy()\n",
        "\n",
        "# Generate true labels from the test generator\n",
        "y_true = test_generator.classes\n",
        "# Generate the confusion matrix\n",
        "cm = confusion_matrix(y_true=y_true, y_pred=y_pred)\n",
        "\n",
        "# Plot the confusion matrix using seaborn\n",
        "plt.figure(figsize=(8, 8))\n",
        "sns.heatmap(cm, annot=True, cmap='Blues', fmt='d', cbar=True, square=True)\n",
        "plt.title(\"Confusion Matrix\")\n",
        "plt.xlabel(\"Predicted Labels\")\n",
        "plt.ylabel(\"True Labels\")\n",
        "plt.show()"
      ],
      "metadata": {
        "colab": {
          "base_uri": "https://localhost:8080/",
          "height": 671
        },
        "id": "TGD5TKbd2w7J",
        "outputId": "b1a3835a-e45a-4d09-de9c-470bee3d82e4"
      },
      "execution_count": 44,
      "outputs": [
        {
          "output_type": "stream",
          "name": "stdout",
          "text": [
            "3027/3027 [==============================] - 907s 299ms/step\n"
          ]
        },
        {
          "output_type": "display_data",
          "data": {
            "text/plain": [
              "<Figure size 800x800 with 2 Axes>"
            ],
            "image/png": "[encoded data removed]"
          },
          "metadata": {}
        }
      ]
    },
    {
      "cell_type": "code",
      "source": [
        "from sklearn.metrics import classification_report\n",
        "report = classification_report(y_true, y_pred)\n",
        "print(report)"
      ],
      "metadata": {
        "colab": {
          "base_uri": "https://localhost:8080/"
        },
        "id": "OqEL4uJN3Mh3",
        "outputId": "53e9b2eb-f671-4f0b-9093-5ed95aed2412"
      },
      "execution_count": 46,
      "outputs": [
        {
          "output_type": "stream",
          "name": "stdout",
          "text": [
            "              precision    recall  f1-score   support\n",
            "\n",
            "           0       0.85      0.88      0.86    192998\n",
            "           1       0.88      0.84      0.86    194350\n",
            "\n",
            "    accuracy                           0.86    387348\n",
            "   macro avg       0.86      0.86      0.86    387348\n",
            "weighted avg       0.86      0.86      0.86    387348\n",
            "\n"
          ]
        }
      ]
    },
    {
      "cell_type": "code",
      "source": [
        "loaded_model10.save(\"modelE14VA86,24R3.h5\")"
      ],
      "metadata": {
        "id": "x5GBzYDl48Cr"
      },
      "execution_count": 48,
      "outputs": []
    },
    {
      "cell_type": "markdown",
      "source": [
        "# **After 17 Epochs**"
      ],
      "metadata": {
        "id": "6WZqNGqhAG0z"
      }
    },
    {
      "cell_type": "code",
      "source": [
        "loaded_model11 = tf.keras.models.load_model('modelE14VA86,24R3.h5', custom_objects={'CustomLayer': custom_objects})"
      ],
      "metadata": {
        "id": "bjB-4D_E-k1w"
      },
      "execution_count": 59,
      "outputs": []
    },
    {
      "cell_type": "code",
      "source": [
        "initial_learning_rate = 1e-6\n",
        "lr_schedule = ExponentialDecay(\n",
        "    initial_learning_rate,\n",
        "    decay_steps=15000,\n",
        "    decay_rate=0.90,\n",
        "    staircase=True)\n",
        "\n",
        "optimizer = Adam(learning_rate=lr_schedule,clipnorm=0.5)\n",
        "\n",
        "# Compile the model\n",
        "loaded_model11.compile(optimizer = optimizer, loss='sparse_categorical_crossentropy', metrics=['accuracy'])"
      ],
      "metadata": {
        "id": "UO8SLdvx-vOt"
      },
      "execution_count": 60,
      "outputs": []
    },
    {
      "cell_type": "code",
      "source": [
        "history11 = loaded_model11.fit(\n",
        "    train_generator,\n",
        "    steps_per_epoch=train_generator.samples // batch_size,\n",
        "    validation_data=test_generator,\n",
        "    validation_steps=test_generator.samples // batch_size,\n",
        "    epochs=2,\n",
        "    shuffle=True) # loss: 0.4584 - accuracy: 0.8587 - val_loss: 0.4554 - val_accuracy: 0.8624"
      ],
      "metadata": {
        "colab": {
          "base_uri": "https://localhost:8080/"
        },
        "id": "29Dsjq6H8Qpq",
        "outputId": "c645af69-cbbf-4ae6-f669-ac2ae0ce03c3"
      },
      "execution_count": 61,
      "outputs": [
        {
          "output_type": "stream",
          "name": "stdout",
          "text": [
            "Epoch 1/2\n",
            "12104/12104 [==============================] - 4568s 375ms/step - loss: 0.4580 - accuracy: 0.8592 - val_loss: 0.4553 - val_accuracy: 0.8622\n",
            "Epoch 2/2\n",
            "12104/12104 [==============================] - 4536s 375ms/step - loss: 0.4578 - accuracy: 0.8594 - val_loss: 0.4553 - val_accuracy: 0.8624\n"
          ]
        }
      ]
    },
    {
      "cell_type": "code",
      "source": [
        "loaded_model11.save(\"modelE16A85,94R3.h5\")"
      ],
      "metadata": {
        "colab": {
          "base_uri": "https://localhost:8080/"
        },
        "id": "2d6IrAIA_vkC",
        "outputId": "38446f8a-9d50-4cb4-d9ca-f43e2ee29007"
      },
      "execution_count": 62,
      "outputs": [
        {
          "output_type": "stream",
          "name": "stderr",
          "text": [
            "/usr/local/lib/python3.10/dist-packages/keras/src/engine/training.py:3103: UserWarning: You are saving your model as an HDF5 file via `model.save()`. This file format is considered legacy. We recommend using instead the native Keras format, e.g. `model.save('my_model.keras')`.\n",
            "  saving_api.save_model(\n"
          ]
        }
      ]
    },
    {
      "cell_type": "code",
      "source": [
        "history11 = loaded_model11.fit(\n",
        "    train_generator,\n",
        "    steps_per_epoch=train_generator.samples // batch_size,\n",
        "    validation_data=test_generator,\n",
        "    validation_steps=test_generator.samples // batch_size,\n",
        "    epochs=1,\n",
        "    shuffle=True)"
      ],
      "metadata": {
        "colab": {
          "base_uri": "https://localhost:8080/"
        },
        "id": "bU0yp9L7rAs3",
        "outputId": "6f8b6db0-b0fe-4c9d-c35f-2caab0e08b68"
      },
      "execution_count": 63,
      "outputs": [
        {
          "output_type": "stream",
          "name": "stdout",
          "text": [
            "12104/12104 [==============================] - 4528s 374ms/step - loss: 0.4577 - accuracy: 0.8596 - val_loss: 0.4553 - val_accuracy: 0.8624\n"
          ]
        }
      ]
    },
    {
      "cell_type": "code",
      "source": [
        "loaded_model11.save(\"modelE16A85,96R3.h5\")"
      ],
      "metadata": {
        "id": "uARXRes-rXQO"
      },
      "execution_count": 64,
      "outputs": []
    },
    {
      "cell_type": "markdown",
      "source": [
        "# **After 18 Epochs With batch size 256 -modelE16A85,96R3.h5-**"
      ],
      "metadata": {
        "id": "6EeFs7q7Ns81"
      }
    },
    {
      "cell_type": "code",
      "source": [
        "loaded_model12 = tf.keras.models.load_model('modelE16A85,96R3.h5', custom_objects={'CustomLayer': custom_objects})"
      ],
      "metadata": {
        "id": "EHznn5HFDwm4"
      },
      "execution_count": 72,
      "outputs": []
    },
    {
      "cell_type": "code",
      "source": [
        "initial_learning_rate = 1e-5\n",
        "lr_schedule = ExponentialDecay(\n",
        "    initial_learning_rate,\n",
        "    decay_steps=8000,\n",
        "    decay_rate=0.90,\n",
        "    staircase=True)\n",
        "\n",
        "optimizer = Adam(learning_rate=lr_schedule,clipnorm=1.0)\n",
        "\n",
        "# Compile the model\n",
        "loaded_model12.compile(optimizer = optimizer, loss='sparse_categorical_crossentropy', metrics=['accuracy'])"
      ],
      "metadata": {
        "id": "9KFqJ6L79QJN"
      },
      "execution_count": 73,
      "outputs": []
    },
    {
      "cell_type": "code",
      "source": [
        "history12 = loaded_model12.fit(\n",
        "    train_generator,\n",
        "    steps_per_epoch=train_generator.samples // batch_size,\n",
        "    validation_data=test_generator,\n",
        "    validation_steps=test_generator.samples // batch_size,\n",
        "    epochs=1,\n",
        "    shuffle=True) #loss: 0.4577 - accuracy: 0.8596 - val_loss: 0.4553 - val_accuracy: 0.8624"
      ],
      "metadata": {
        "colab": {
          "base_uri": "https://localhost:8080/"
        },
        "id": "3QS9X92b995s",
        "outputId": "3fe0544a-48ab-41da-a938-9c89927f2518"
      },
      "execution_count": null,
      "outputs": [
        {
          "output_type": "stream",
          "name": "stdout",
          "text": [
            "6052/6052 [==============================] - ETA: 0s - loss: 0.4567 - accuracy: 0.8605"
          ]
        }
      ]
    },
    {
      "cell_type": "code",
      "source": [
        "loaded_model12.save(\"modelE18A86,05R3B256.h5\")"
      ],
      "metadata": {
        "colab": {
          "base_uri": "https://localhost:8080/"
        },
        "id": "yW6mHYs3ObEd",
        "outputId": "6a39f859-bdbb-4bf9-f1f7-7f7673fbb18f"
      },
      "execution_count": 75,
      "outputs": [
        {
          "output_type": "stream",
          "name": "stderr",
          "text": [
            "/usr/local/lib/python3.10/dist-packages/keras/src/engine/training.py:3103: UserWarning: You are saving your model as an HDF5 file via `model.save()`. This file format is considered legacy. We recommend using instead the native Keras format, e.g. `model.save('my_model.keras')`.\n",
            "  saving_api.save_model(\n"
          ]
        }
      ]
    },
    {
      "cell_type": "code",
      "source": [],
      "metadata": {
        "id": "-FtlD4PqWFGz"
      },
      "execution_count": null,
      "outputs": []
    }
  ]
}